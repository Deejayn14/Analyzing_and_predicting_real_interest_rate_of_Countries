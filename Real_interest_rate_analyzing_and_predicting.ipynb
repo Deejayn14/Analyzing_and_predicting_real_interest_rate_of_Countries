{
 "cells": [
  {
   "cell_type": "code",
   "execution_count": 2,
   "id": "99439629",
   "metadata": {},
   "outputs": [],
   "source": [
    "import pandas as pd\n",
    "import numpy as np\n",
    "import matplotlib.pyplot as plt\n",
    "import seaborn as sns\n",
    "import os\n",
    "import statsmodels.api as sts"
   ]
  },
  {
   "cell_type": "code",
   "execution_count": 38,
   "id": "52bff9fb",
   "metadata": {},
   "outputs": [
    {
     "data": {
      "text/html": [
       "<div>\n",
       "<style scoped>\n",
       "    .dataframe tbody tr th:only-of-type {\n",
       "        vertical-align: middle;\n",
       "    }\n",
       "\n",
       "    .dataframe tbody tr th {\n",
       "        vertical-align: top;\n",
       "    }\n",
       "\n",
       "    .dataframe thead th {\n",
       "        text-align: right;\n",
       "    }\n",
       "</style>\n",
       "<table border=\"1\" class=\"dataframe\">\n",
       "  <thead>\n",
       "    <tr style=\"text-align: right;\">\n",
       "      <th></th>\n",
       "      <th>country_code</th>\n",
       "      <th>country_name</th>\n",
       "      <th>year</th>\n",
       "      <th>value</th>\n",
       "    </tr>\n",
       "  </thead>\n",
       "  <tbody>\n",
       "    <tr>\n",
       "      <th>0</th>\n",
       "      <td>ABW</td>\n",
       "      <td>Aruba</td>\n",
       "      <td>1987</td>\n",
       "      <td>6.475434</td>\n",
       "    </tr>\n",
       "    <tr>\n",
       "      <th>1</th>\n",
       "      <td>ABW</td>\n",
       "      <td>Aruba</td>\n",
       "      <td>1988</td>\n",
       "      <td>6.918180</td>\n",
       "    </tr>\n",
       "    <tr>\n",
       "      <th>2</th>\n",
       "      <td>ABW</td>\n",
       "      <td>Aruba</td>\n",
       "      <td>1989</td>\n",
       "      <td>6.264234</td>\n",
       "    </tr>\n",
       "    <tr>\n",
       "      <th>3</th>\n",
       "      <td>ABW</td>\n",
       "      <td>Aruba</td>\n",
       "      <td>1990</td>\n",
       "      <td>4.566641</td>\n",
       "    </tr>\n",
       "    <tr>\n",
       "      <th>4</th>\n",
       "      <td>ABW</td>\n",
       "      <td>Aruba</td>\n",
       "      <td>1991</td>\n",
       "      <td>4.791125</td>\n",
       "    </tr>\n",
       "    <tr>\n",
       "      <th>...</th>\n",
       "      <td>...</td>\n",
       "      <td>...</td>\n",
       "      <td>...</td>\n",
       "      <td>...</td>\n",
       "    </tr>\n",
       "    <tr>\n",
       "      <th>4571</th>\n",
       "      <td>ZWE</td>\n",
       "      <td>Zimbabwe</td>\n",
       "      <td>2017</td>\n",
       "      <td>3.742846</td>\n",
       "    </tr>\n",
       "    <tr>\n",
       "      <th>4572</th>\n",
       "      <td>ZWE</td>\n",
       "      <td>Zimbabwe</td>\n",
       "      <td>2018</td>\n",
       "      <td>-64.380817</td>\n",
       "    </tr>\n",
       "    <tr>\n",
       "      <th>4573</th>\n",
       "      <td>ZWE</td>\n",
       "      <td>Zimbabwe</td>\n",
       "      <td>2019</td>\n",
       "      <td>-64.295151</td>\n",
       "    </tr>\n",
       "    <tr>\n",
       "      <th>4574</th>\n",
       "      <td>ZWE</td>\n",
       "      <td>Zimbabwe</td>\n",
       "      <td>2020</td>\n",
       "      <td>-81.132121</td>\n",
       "    </tr>\n",
       "    <tr>\n",
       "      <th>4575</th>\n",
       "      <td>ZWE</td>\n",
       "      <td>Zimbabwe</td>\n",
       "      <td>2021</td>\n",
       "      <td>-31.795551</td>\n",
       "    </tr>\n",
       "  </tbody>\n",
       "</table>\n",
       "<p>4576 rows × 4 columns</p>\n",
       "</div>"
      ],
      "text/plain": [
       "     country_code country_name  year      value\n",
       "0             ABW        Aruba  1987   6.475434\n",
       "1             ABW        Aruba  1988   6.918180\n",
       "2             ABW        Aruba  1989   6.264234\n",
       "3             ABW        Aruba  1990   4.566641\n",
       "4             ABW        Aruba  1991   4.791125\n",
       "...           ...          ...   ...        ...\n",
       "4571          ZWE     Zimbabwe  2017   3.742846\n",
       "4572          ZWE     Zimbabwe  2018 -64.380817\n",
       "4573          ZWE     Zimbabwe  2019 -64.295151\n",
       "4574          ZWE     Zimbabwe  2020 -81.132121\n",
       "4575          ZWE     Zimbabwe  2021 -31.795551\n",
       "\n",
       "[4576 rows x 4 columns]"
      ]
     },
     "execution_count": 38,
     "metadata": {},
     "output_type": "execute_result"
    }
   ],
   "source": [
    "data=pd.read_csv(r\"C:\\Users\\deepanshu\\Desktop\\real_interest_rate_by_country.csv\")\n",
    "data"
   ]
  },
  {
   "cell_type": "code",
   "execution_count": 39,
   "id": "fa614b56",
   "metadata": {},
   "outputs": [
    {
     "data": {
      "text/html": [
       "<div>\n",
       "<style scoped>\n",
       "    .dataframe tbody tr th:only-of-type {\n",
       "        vertical-align: middle;\n",
       "    }\n",
       "\n",
       "    .dataframe tbody tr th {\n",
       "        vertical-align: top;\n",
       "    }\n",
       "\n",
       "    .dataframe thead th {\n",
       "        text-align: right;\n",
       "    }\n",
       "</style>\n",
       "<table border=\"1\" class=\"dataframe\">\n",
       "  <thead>\n",
       "    <tr style=\"text-align: right;\">\n",
       "      <th></th>\n",
       "      <th>year</th>\n",
       "      <th>value</th>\n",
       "    </tr>\n",
       "  </thead>\n",
       "  <tbody>\n",
       "    <tr>\n",
       "      <th>count</th>\n",
       "      <td>4576.000000</td>\n",
       "      <td>4576.000000</td>\n",
       "    </tr>\n",
       "    <tr>\n",
       "      <th>mean</th>\n",
       "      <td>2002.397072</td>\n",
       "      <td>6.158481</td>\n",
       "    </tr>\n",
       "    <tr>\n",
       "      <th>std</th>\n",
       "      <td>12.484916</td>\n",
       "      <td>26.120630</td>\n",
       "    </tr>\n",
       "    <tr>\n",
       "      <th>min</th>\n",
       "      <td>1961.000000</td>\n",
       "      <td>-97.693477</td>\n",
       "    </tr>\n",
       "    <tr>\n",
       "      <th>25%</th>\n",
       "      <td>1994.000000</td>\n",
       "      <td>1.773144</td>\n",
       "    </tr>\n",
       "    <tr>\n",
       "      <th>50%</th>\n",
       "      <td>2004.000000</td>\n",
       "      <td>5.579257</td>\n",
       "    </tr>\n",
       "    <tr>\n",
       "      <th>75%</th>\n",
       "      <td>2012.000000</td>\n",
       "      <td>9.826362</td>\n",
       "    </tr>\n",
       "    <tr>\n",
       "      <th>max</th>\n",
       "      <td>2021.000000</td>\n",
       "      <td>1158.026425</td>\n",
       "    </tr>\n",
       "  </tbody>\n",
       "</table>\n",
       "</div>"
      ],
      "text/plain": [
       "              year        value\n",
       "count  4576.000000  4576.000000\n",
       "mean   2002.397072     6.158481\n",
       "std      12.484916    26.120630\n",
       "min    1961.000000   -97.693477\n",
       "25%    1994.000000     1.773144\n",
       "50%    2004.000000     5.579257\n",
       "75%    2012.000000     9.826362\n",
       "max    2021.000000  1158.026425"
      ]
     },
     "execution_count": 39,
     "metadata": {},
     "output_type": "execute_result"
    }
   ],
   "source": [
    "data.describe()"
   ]
  },
  {
   "cell_type": "code",
   "execution_count": 40,
   "id": "8c1e7c07",
   "metadata": {},
   "outputs": [
    {
     "data": {
      "text/html": [
       "<div>\n",
       "<style scoped>\n",
       "    .dataframe tbody tr th:only-of-type {\n",
       "        vertical-align: middle;\n",
       "    }\n",
       "\n",
       "    .dataframe tbody tr th {\n",
       "        vertical-align: top;\n",
       "    }\n",
       "\n",
       "    .dataframe thead th {\n",
       "        text-align: right;\n",
       "    }\n",
       "</style>\n",
       "<table border=\"1\" class=\"dataframe\">\n",
       "  <thead>\n",
       "    <tr style=\"text-align: right;\">\n",
       "      <th></th>\n",
       "      <th>country_code</th>\n",
       "      <th>country_name</th>\n",
       "      <th>year</th>\n",
       "      <th>value</th>\n",
       "    </tr>\n",
       "  </thead>\n",
       "  <tbody>\n",
       "    <tr>\n",
       "      <th>0</th>\n",
       "      <td>ABW</td>\n",
       "      <td>Aruba</td>\n",
       "      <td>1987</td>\n",
       "      <td>6.475434</td>\n",
       "    </tr>\n",
       "    <tr>\n",
       "      <th>1</th>\n",
       "      <td>ABW</td>\n",
       "      <td>Aruba</td>\n",
       "      <td>1988</td>\n",
       "      <td>6.918180</td>\n",
       "    </tr>\n",
       "    <tr>\n",
       "      <th>2</th>\n",
       "      <td>ABW</td>\n",
       "      <td>Aruba</td>\n",
       "      <td>1989</td>\n",
       "      <td>6.264234</td>\n",
       "    </tr>\n",
       "    <tr>\n",
       "      <th>3</th>\n",
       "      <td>ABW</td>\n",
       "      <td>Aruba</td>\n",
       "      <td>1990</td>\n",
       "      <td>4.566641</td>\n",
       "    </tr>\n",
       "    <tr>\n",
       "      <th>4</th>\n",
       "      <td>ABW</td>\n",
       "      <td>Aruba</td>\n",
       "      <td>1991</td>\n",
       "      <td>4.791125</td>\n",
       "    </tr>\n",
       "  </tbody>\n",
       "</table>\n",
       "</div>"
      ],
      "text/plain": [
       "  country_code country_name  year     value\n",
       "0          ABW        Aruba  1987  6.475434\n",
       "1          ABW        Aruba  1988  6.918180\n",
       "2          ABW        Aruba  1989  6.264234\n",
       "3          ABW        Aruba  1990  4.566641\n",
       "4          ABW        Aruba  1991  4.791125"
      ]
     },
     "execution_count": 40,
     "metadata": {},
     "output_type": "execute_result"
    }
   ],
   "source": [
    "data.head()"
   ]
  },
  {
   "cell_type": "code",
   "execution_count": 41,
   "id": "5eff5855",
   "metadata": {},
   "outputs": [
    {
     "data": {
      "text/html": [
       "<div>\n",
       "<style scoped>\n",
       "    .dataframe tbody tr th:only-of-type {\n",
       "        vertical-align: middle;\n",
       "    }\n",
       "\n",
       "    .dataframe tbody tr th {\n",
       "        vertical-align: top;\n",
       "    }\n",
       "\n",
       "    .dataframe thead th {\n",
       "        text-align: right;\n",
       "    }\n",
       "</style>\n",
       "<table border=\"1\" class=\"dataframe\">\n",
       "  <thead>\n",
       "    <tr style=\"text-align: right;\">\n",
       "      <th></th>\n",
       "      <th>year</th>\n",
       "      <th>value</th>\n",
       "    </tr>\n",
       "  </thead>\n",
       "  <tbody>\n",
       "    <tr>\n",
       "      <th>count</th>\n",
       "      <td>4576.000000</td>\n",
       "      <td>4576.000000</td>\n",
       "    </tr>\n",
       "    <tr>\n",
       "      <th>mean</th>\n",
       "      <td>2002.397072</td>\n",
       "      <td>6.158481</td>\n",
       "    </tr>\n",
       "    <tr>\n",
       "      <th>std</th>\n",
       "      <td>12.484916</td>\n",
       "      <td>26.120630</td>\n",
       "    </tr>\n",
       "    <tr>\n",
       "      <th>min</th>\n",
       "      <td>1961.000000</td>\n",
       "      <td>-97.693477</td>\n",
       "    </tr>\n",
       "    <tr>\n",
       "      <th>25%</th>\n",
       "      <td>1994.000000</td>\n",
       "      <td>1.773144</td>\n",
       "    </tr>\n",
       "    <tr>\n",
       "      <th>50%</th>\n",
       "      <td>2004.000000</td>\n",
       "      <td>5.579257</td>\n",
       "    </tr>\n",
       "    <tr>\n",
       "      <th>75%</th>\n",
       "      <td>2012.000000</td>\n",
       "      <td>9.826362</td>\n",
       "    </tr>\n",
       "    <tr>\n",
       "      <th>max</th>\n",
       "      <td>2021.000000</td>\n",
       "      <td>1158.026425</td>\n",
       "    </tr>\n",
       "  </tbody>\n",
       "</table>\n",
       "</div>"
      ],
      "text/plain": [
       "              year        value\n",
       "count  4576.000000  4576.000000\n",
       "mean   2002.397072     6.158481\n",
       "std      12.484916    26.120630\n",
       "min    1961.000000   -97.693477\n",
       "25%    1994.000000     1.773144\n",
       "50%    2004.000000     5.579257\n",
       "75%    2012.000000     9.826362\n",
       "max    2021.000000  1158.026425"
      ]
     },
     "execution_count": 41,
     "metadata": {},
     "output_type": "execute_result"
    }
   ],
   "source": [
    "data.describe()"
   ]
  },
  {
   "cell_type": "code",
   "execution_count": 42,
   "id": "28fd9b04",
   "metadata": {},
   "outputs": [
    {
     "data": {
      "text/html": [
       "<div>\n",
       "<style scoped>\n",
       "    .dataframe tbody tr th:only-of-type {\n",
       "        vertical-align: middle;\n",
       "    }\n",
       "\n",
       "    .dataframe tbody tr th {\n",
       "        vertical-align: top;\n",
       "    }\n",
       "\n",
       "    .dataframe thead th {\n",
       "        text-align: right;\n",
       "    }\n",
       "</style>\n",
       "<table border=\"1\" class=\"dataframe\">\n",
       "  <thead>\n",
       "    <tr style=\"text-align: right;\">\n",
       "      <th></th>\n",
       "      <th>country_code</th>\n",
       "      <th>country_name</th>\n",
       "      <th>year</th>\n",
       "      <th>value</th>\n",
       "    </tr>\n",
       "  </thead>\n",
       "  <tbody>\n",
       "    <tr>\n",
       "      <th>0</th>\n",
       "      <td>ABW</td>\n",
       "      <td>Aruba</td>\n",
       "      <td>1987</td>\n",
       "      <td>6.475434</td>\n",
       "    </tr>\n",
       "    <tr>\n",
       "      <th>1</th>\n",
       "      <td>ABW</td>\n",
       "      <td>Aruba</td>\n",
       "      <td>1988</td>\n",
       "      <td>6.918180</td>\n",
       "    </tr>\n",
       "    <tr>\n",
       "      <th>2</th>\n",
       "      <td>ABW</td>\n",
       "      <td>Aruba</td>\n",
       "      <td>1989</td>\n",
       "      <td>6.264234</td>\n",
       "    </tr>\n",
       "    <tr>\n",
       "      <th>3</th>\n",
       "      <td>ABW</td>\n",
       "      <td>Aruba</td>\n",
       "      <td>1990</td>\n",
       "      <td>4.566641</td>\n",
       "    </tr>\n",
       "    <tr>\n",
       "      <th>4</th>\n",
       "      <td>ABW</td>\n",
       "      <td>Aruba</td>\n",
       "      <td>1991</td>\n",
       "      <td>4.791125</td>\n",
       "    </tr>\n",
       "    <tr>\n",
       "      <th>...</th>\n",
       "      <td>...</td>\n",
       "      <td>...</td>\n",
       "      <td>...</td>\n",
       "      <td>...</td>\n",
       "    </tr>\n",
       "    <tr>\n",
       "      <th>4571</th>\n",
       "      <td>ZWE</td>\n",
       "      <td>Zimbabwe</td>\n",
       "      <td>2017</td>\n",
       "      <td>3.742846</td>\n",
       "    </tr>\n",
       "    <tr>\n",
       "      <th>4572</th>\n",
       "      <td>ZWE</td>\n",
       "      <td>Zimbabwe</td>\n",
       "      <td>2018</td>\n",
       "      <td>-64.380817</td>\n",
       "    </tr>\n",
       "    <tr>\n",
       "      <th>4573</th>\n",
       "      <td>ZWE</td>\n",
       "      <td>Zimbabwe</td>\n",
       "      <td>2019</td>\n",
       "      <td>-64.295151</td>\n",
       "    </tr>\n",
       "    <tr>\n",
       "      <th>4574</th>\n",
       "      <td>ZWE</td>\n",
       "      <td>Zimbabwe</td>\n",
       "      <td>2020</td>\n",
       "      <td>-81.132121</td>\n",
       "    </tr>\n",
       "    <tr>\n",
       "      <th>4575</th>\n",
       "      <td>ZWE</td>\n",
       "      <td>Zimbabwe</td>\n",
       "      <td>2021</td>\n",
       "      <td>-31.795551</td>\n",
       "    </tr>\n",
       "  </tbody>\n",
       "</table>\n",
       "<p>4576 rows × 4 columns</p>\n",
       "</div>"
      ],
      "text/plain": [
       "     country_code country_name  year      value\n",
       "0             ABW        Aruba  1987   6.475434\n",
       "1             ABW        Aruba  1988   6.918180\n",
       "2             ABW        Aruba  1989   6.264234\n",
       "3             ABW        Aruba  1990   4.566641\n",
       "4             ABW        Aruba  1991   4.791125\n",
       "...           ...          ...   ...        ...\n",
       "4571          ZWE     Zimbabwe  2017   3.742846\n",
       "4572          ZWE     Zimbabwe  2018 -64.380817\n",
       "4573          ZWE     Zimbabwe  2019 -64.295151\n",
       "4574          ZWE     Zimbabwe  2020 -81.132121\n",
       "4575          ZWE     Zimbabwe  2021 -31.795551\n",
       "\n",
       "[4576 rows x 4 columns]"
      ]
     },
     "execution_count": 42,
     "metadata": {},
     "output_type": "execute_result"
    }
   ],
   "source": [
    "dataframe=pd.DataFrame(data)\n",
    "dataframe"
   ]
  },
  {
   "cell_type": "raw",
   "id": "40727bb5",
   "metadata": {},
   "source": [
    "Analysing the real interest data of top 10 economies in the world"
   ]
  },
  {
   "cell_type": "code",
   "execution_count": 43,
   "id": "08c11d60",
   "metadata": {},
   "outputs": [
    {
     "data": {
      "text/html": [
       "<div>\n",
       "<style scoped>\n",
       "    .dataframe tbody tr th:only-of-type {\n",
       "        vertical-align: middle;\n",
       "    }\n",
       "\n",
       "    .dataframe tbody tr th {\n",
       "        vertical-align: top;\n",
       "    }\n",
       "\n",
       "    .dataframe thead th {\n",
       "        text-align: right;\n",
       "    }\n",
       "</style>\n",
       "<table border=\"1\" class=\"dataframe\">\n",
       "  <thead>\n",
       "    <tr style=\"text-align: right;\">\n",
       "      <th></th>\n",
       "      <th>country_code</th>\n",
       "      <th>year</th>\n",
       "      <th>value</th>\n",
       "    </tr>\n",
       "    <tr>\n",
       "      <th>country_name</th>\n",
       "      <th></th>\n",
       "      <th></th>\n",
       "      <th></th>\n",
       "    </tr>\n",
       "  </thead>\n",
       "  <tbody>\n",
       "    <tr>\n",
       "      <th>Aruba</th>\n",
       "      <td>ABW</td>\n",
       "      <td>1987</td>\n",
       "      <td>6.475434</td>\n",
       "    </tr>\n",
       "    <tr>\n",
       "      <th>Aruba</th>\n",
       "      <td>ABW</td>\n",
       "      <td>1988</td>\n",
       "      <td>6.918180</td>\n",
       "    </tr>\n",
       "    <tr>\n",
       "      <th>Aruba</th>\n",
       "      <td>ABW</td>\n",
       "      <td>1989</td>\n",
       "      <td>6.264234</td>\n",
       "    </tr>\n",
       "    <tr>\n",
       "      <th>Aruba</th>\n",
       "      <td>ABW</td>\n",
       "      <td>1990</td>\n",
       "      <td>4.566641</td>\n",
       "    </tr>\n",
       "    <tr>\n",
       "      <th>Aruba</th>\n",
       "      <td>ABW</td>\n",
       "      <td>1991</td>\n",
       "      <td>4.791125</td>\n",
       "    </tr>\n",
       "    <tr>\n",
       "      <th>...</th>\n",
       "      <td>...</td>\n",
       "      <td>...</td>\n",
       "      <td>...</td>\n",
       "    </tr>\n",
       "    <tr>\n",
       "      <th>Zimbabwe</th>\n",
       "      <td>ZWE</td>\n",
       "      <td>2017</td>\n",
       "      <td>3.742846</td>\n",
       "    </tr>\n",
       "    <tr>\n",
       "      <th>Zimbabwe</th>\n",
       "      <td>ZWE</td>\n",
       "      <td>2018</td>\n",
       "      <td>-64.380817</td>\n",
       "    </tr>\n",
       "    <tr>\n",
       "      <th>Zimbabwe</th>\n",
       "      <td>ZWE</td>\n",
       "      <td>2019</td>\n",
       "      <td>-64.295151</td>\n",
       "    </tr>\n",
       "    <tr>\n",
       "      <th>Zimbabwe</th>\n",
       "      <td>ZWE</td>\n",
       "      <td>2020</td>\n",
       "      <td>-81.132121</td>\n",
       "    </tr>\n",
       "    <tr>\n",
       "      <th>Zimbabwe</th>\n",
       "      <td>ZWE</td>\n",
       "      <td>2021</td>\n",
       "      <td>-31.795551</td>\n",
       "    </tr>\n",
       "  </tbody>\n",
       "</table>\n",
       "<p>4576 rows × 3 columns</p>\n",
       "</div>"
      ],
      "text/plain": [
       "             country_code  year      value\n",
       "country_name                              \n",
       "Aruba                 ABW  1987   6.475434\n",
       "Aruba                 ABW  1988   6.918180\n",
       "Aruba                 ABW  1989   6.264234\n",
       "Aruba                 ABW  1990   4.566641\n",
       "Aruba                 ABW  1991   4.791125\n",
       "...                   ...   ...        ...\n",
       "Zimbabwe              ZWE  2017   3.742846\n",
       "Zimbabwe              ZWE  2018 -64.380817\n",
       "Zimbabwe              ZWE  2019 -64.295151\n",
       "Zimbabwe              ZWE  2020 -81.132121\n",
       "Zimbabwe              ZWE  2021 -31.795551\n",
       "\n",
       "[4576 rows x 3 columns]"
      ]
     },
     "execution_count": 43,
     "metadata": {},
     "output_type": "execute_result"
    }
   ],
   "source": [
    "dataframe_indexed= dataframe.set_index('country_name')\n",
    "dataframe_indexed"
   ]
  },
  {
   "cell_type": "code",
   "execution_count": 44,
   "id": "5e291cf9",
   "metadata": {},
   "outputs": [
    {
     "data": {
      "text/plain": [
       "country_name\n",
       "Aruba       ABW\n",
       "Aruba       ABW\n",
       "Aruba       ABW\n",
       "Aruba       ABW\n",
       "Aruba       ABW\n",
       "           ... \n",
       "Zimbabwe    ZWE\n",
       "Zimbabwe    ZWE\n",
       "Zimbabwe    ZWE\n",
       "Zimbabwe    ZWE\n",
       "Zimbabwe    ZWE\n",
       "Name: country_code, Length: 4576, dtype: object"
      ]
     },
     "execution_count": 44,
     "metadata": {},
     "output_type": "execute_result"
    }
   ],
   "source": [
    "dataframe_indexed[\"country_code\"]"
   ]
  },
  {
   "cell_type": "code",
   "execution_count": 45,
   "id": "f411ee63",
   "metadata": {},
   "outputs": [
    {
     "data": {
      "text/html": [
       "<div>\n",
       "<style scoped>\n",
       "    .dataframe tbody tr th:only-of-type {\n",
       "        vertical-align: middle;\n",
       "    }\n",
       "\n",
       "    .dataframe tbody tr th {\n",
       "        vertical-align: top;\n",
       "    }\n",
       "\n",
       "    .dataframe thead th {\n",
       "        text-align: right;\n",
       "    }\n",
       "</style>\n",
       "<table border=\"1\" class=\"dataframe\">\n",
       "  <thead>\n",
       "    <tr style=\"text-align: right;\">\n",
       "      <th></th>\n",
       "      <th>country_code</th>\n",
       "      <th>year</th>\n",
       "      <th>value</th>\n",
       "    </tr>\n",
       "    <tr>\n",
       "      <th>country_name</th>\n",
       "      <th></th>\n",
       "      <th></th>\n",
       "      <th></th>\n",
       "    </tr>\n",
       "  </thead>\n",
       "  <tbody>\n",
       "    <tr>\n",
       "      <th>United States</th>\n",
       "      <td>USA</td>\n",
       "      <td>1961</td>\n",
       "      <td>3.107885</td>\n",
       "    </tr>\n",
       "    <tr>\n",
       "      <th>United States</th>\n",
       "      <td>USA</td>\n",
       "      <td>1962</td>\n",
       "      <td>3.215346</td>\n",
       "    </tr>\n",
       "    <tr>\n",
       "      <th>United States</th>\n",
       "      <td>USA</td>\n",
       "      <td>1963</td>\n",
       "      <td>3.374882</td>\n",
       "    </tr>\n",
       "    <tr>\n",
       "      <th>United States</th>\n",
       "      <td>USA</td>\n",
       "      <td>1964</td>\n",
       "      <td>2.951669</td>\n",
       "    </tr>\n",
       "    <tr>\n",
       "      <th>United States</th>\n",
       "      <td>USA</td>\n",
       "      <td>1965</td>\n",
       "      <td>2.565913</td>\n",
       "    </tr>\n",
       "    <tr>\n",
       "      <th>...</th>\n",
       "      <td>...</td>\n",
       "      <td>...</td>\n",
       "      <td>...</td>\n",
       "    </tr>\n",
       "    <tr>\n",
       "      <th>United States</th>\n",
       "      <td>USA</td>\n",
       "      <td>2017</td>\n",
       "      <td>2.156099</td>\n",
       "    </tr>\n",
       "    <tr>\n",
       "      <th>United States</th>\n",
       "      <td>USA</td>\n",
       "      <td>2018</td>\n",
       "      <td>2.441415</td>\n",
       "    </tr>\n",
       "    <tr>\n",
       "      <th>United States</th>\n",
       "      <td>USA</td>\n",
       "      <td>2019</td>\n",
       "      <td>3.427090</td>\n",
       "    </tr>\n",
       "    <tr>\n",
       "      <th>United States</th>\n",
       "      <td>USA</td>\n",
       "      <td>2020</td>\n",
       "      <td>2.210411</td>\n",
       "    </tr>\n",
       "    <tr>\n",
       "      <th>United States</th>\n",
       "      <td>USA</td>\n",
       "      <td>2021</td>\n",
       "      <td>-1.189357</td>\n",
       "    </tr>\n",
       "  </tbody>\n",
       "</table>\n",
       "<p>61 rows × 3 columns</p>\n",
       "</div>"
      ],
      "text/plain": [
       "              country_code  year     value\n",
       "country_name                              \n",
       "United States          USA  1961  3.107885\n",
       "United States          USA  1962  3.215346\n",
       "United States          USA  1963  3.374882\n",
       "United States          USA  1964  2.951669\n",
       "United States          USA  1965  2.565913\n",
       "...                    ...   ...       ...\n",
       "United States          USA  2017  2.156099\n",
       "United States          USA  2018  2.441415\n",
       "United States          USA  2019  3.427090\n",
       "United States          USA  2020  2.210411\n",
       "United States          USA  2021 -1.189357\n",
       "\n",
       "[61 rows x 3 columns]"
      ]
     },
     "execution_count": 45,
     "metadata": {},
     "output_type": "execute_result"
    }
   ],
   "source": [
    "dataframe_indexed.loc[\"United States\"]"
   ]
  },
  {
   "cell_type": "code",
   "execution_count": 46,
   "id": "72237c3e",
   "metadata": {},
   "outputs": [
    {
     "data": {
      "text/plain": [
       "0          Aruba\n",
       "1          Aruba\n",
       "2          Aruba\n",
       "3          Aruba\n",
       "4          Aruba\n",
       "          ...   \n",
       "4571    Zimbabwe\n",
       "4572    Zimbabwe\n",
       "4573    Zimbabwe\n",
       "4574    Zimbabwe\n",
       "4575    Zimbabwe\n",
       "Name: country_name, Length: 4576, dtype: object"
      ]
     },
     "execution_count": 46,
     "metadata": {},
     "output_type": "execute_result"
    }
   ],
   "source": [
    "\n",
    "dataframe[\"country_name\"]"
   ]
  },
  {
   "cell_type": "code",
   "execution_count": 47,
   "id": "6dfc5947",
   "metadata": {},
   "outputs": [
    {
     "data": {
      "text/html": [
       "<div>\n",
       "<style scoped>\n",
       "    .dataframe tbody tr th:only-of-type {\n",
       "        vertical-align: middle;\n",
       "    }\n",
       "\n",
       "    .dataframe tbody tr th {\n",
       "        vertical-align: top;\n",
       "    }\n",
       "\n",
       "    .dataframe thead th {\n",
       "        text-align: right;\n",
       "    }\n",
       "</style>\n",
       "<table border=\"1\" class=\"dataframe\">\n",
       "  <thead>\n",
       "    <tr style=\"text-align: right;\">\n",
       "      <th></th>\n",
       "      <th>country_name</th>\n",
       "    </tr>\n",
       "  </thead>\n",
       "  <tbody>\n",
       "    <tr>\n",
       "      <th>0</th>\n",
       "      <td>Aruba</td>\n",
       "    </tr>\n",
       "    <tr>\n",
       "      <th>1</th>\n",
       "      <td>Aruba</td>\n",
       "    </tr>\n",
       "    <tr>\n",
       "      <th>2</th>\n",
       "      <td>Aruba</td>\n",
       "    </tr>\n",
       "    <tr>\n",
       "      <th>3</th>\n",
       "      <td>Aruba</td>\n",
       "    </tr>\n",
       "    <tr>\n",
       "      <th>4</th>\n",
       "      <td>Aruba</td>\n",
       "    </tr>\n",
       "    <tr>\n",
       "      <th>...</th>\n",
       "      <td>...</td>\n",
       "    </tr>\n",
       "    <tr>\n",
       "      <th>4571</th>\n",
       "      <td>Zimbabwe</td>\n",
       "    </tr>\n",
       "    <tr>\n",
       "      <th>4572</th>\n",
       "      <td>Zimbabwe</td>\n",
       "    </tr>\n",
       "    <tr>\n",
       "      <th>4573</th>\n",
       "      <td>Zimbabwe</td>\n",
       "    </tr>\n",
       "    <tr>\n",
       "      <th>4574</th>\n",
       "      <td>Zimbabwe</td>\n",
       "    </tr>\n",
       "    <tr>\n",
       "      <th>4575</th>\n",
       "      <td>Zimbabwe</td>\n",
       "    </tr>\n",
       "  </tbody>\n",
       "</table>\n",
       "<p>4576 rows × 1 columns</p>\n",
       "</div>"
      ],
      "text/plain": [
       "     country_name\n",
       "0           Aruba\n",
       "1           Aruba\n",
       "2           Aruba\n",
       "3           Aruba\n",
       "4           Aruba\n",
       "...           ...\n",
       "4571     Zimbabwe\n",
       "4572     Zimbabwe\n",
       "4573     Zimbabwe\n",
       "4574     Zimbabwe\n",
       "4575     Zimbabwe\n",
       "\n",
       "[4576 rows x 1 columns]"
      ]
     },
     "execution_count": 47,
     "metadata": {},
     "output_type": "execute_result"
    }
   ],
   "source": [
    "dataframe[[\"country_name\"]]"
   ]
  },
  {
   "cell_type": "code",
   "execution_count": 48,
   "id": "978a20f5",
   "metadata": {},
   "outputs": [
    {
     "data": {
      "text/html": [
       "<div>\n",
       "<style scoped>\n",
       "    .dataframe tbody tr th:only-of-type {\n",
       "        vertical-align: middle;\n",
       "    }\n",
       "\n",
       "    .dataframe tbody tr th {\n",
       "        vertical-align: top;\n",
       "    }\n",
       "\n",
       "    .dataframe thead th {\n",
       "        text-align: right;\n",
       "    }\n",
       "</style>\n",
       "<table border=\"1\" class=\"dataframe\">\n",
       "  <thead>\n",
       "    <tr style=\"text-align: right;\">\n",
       "      <th></th>\n",
       "      <th>country_name</th>\n",
       "      <th>value</th>\n",
       "      <th>year</th>\n",
       "    </tr>\n",
       "  </thead>\n",
       "  <tbody>\n",
       "    <tr>\n",
       "      <th>0</th>\n",
       "      <td>Aruba</td>\n",
       "      <td>6.475434</td>\n",
       "      <td>1987</td>\n",
       "    </tr>\n",
       "    <tr>\n",
       "      <th>1</th>\n",
       "      <td>Aruba</td>\n",
       "      <td>6.918180</td>\n",
       "      <td>1988</td>\n",
       "    </tr>\n",
       "    <tr>\n",
       "      <th>2</th>\n",
       "      <td>Aruba</td>\n",
       "      <td>6.264234</td>\n",
       "      <td>1989</td>\n",
       "    </tr>\n",
       "    <tr>\n",
       "      <th>3</th>\n",
       "      <td>Aruba</td>\n",
       "      <td>4.566641</td>\n",
       "      <td>1990</td>\n",
       "    </tr>\n",
       "    <tr>\n",
       "      <th>4</th>\n",
       "      <td>Aruba</td>\n",
       "      <td>4.791125</td>\n",
       "      <td>1991</td>\n",
       "    </tr>\n",
       "    <tr>\n",
       "      <th>...</th>\n",
       "      <td>...</td>\n",
       "      <td>...</td>\n",
       "      <td>...</td>\n",
       "    </tr>\n",
       "    <tr>\n",
       "      <th>4571</th>\n",
       "      <td>Zimbabwe</td>\n",
       "      <td>3.742846</td>\n",
       "      <td>2017</td>\n",
       "    </tr>\n",
       "    <tr>\n",
       "      <th>4572</th>\n",
       "      <td>Zimbabwe</td>\n",
       "      <td>-64.380817</td>\n",
       "      <td>2018</td>\n",
       "    </tr>\n",
       "    <tr>\n",
       "      <th>4573</th>\n",
       "      <td>Zimbabwe</td>\n",
       "      <td>-64.295151</td>\n",
       "      <td>2019</td>\n",
       "    </tr>\n",
       "    <tr>\n",
       "      <th>4574</th>\n",
       "      <td>Zimbabwe</td>\n",
       "      <td>-81.132121</td>\n",
       "      <td>2020</td>\n",
       "    </tr>\n",
       "    <tr>\n",
       "      <th>4575</th>\n",
       "      <td>Zimbabwe</td>\n",
       "      <td>-31.795551</td>\n",
       "      <td>2021</td>\n",
       "    </tr>\n",
       "  </tbody>\n",
       "</table>\n",
       "<p>4576 rows × 3 columns</p>\n",
       "</div>"
      ],
      "text/plain": [
       "     country_name      value  year\n",
       "0           Aruba   6.475434  1987\n",
       "1           Aruba   6.918180  1988\n",
       "2           Aruba   6.264234  1989\n",
       "3           Aruba   4.566641  1990\n",
       "4           Aruba   4.791125  1991\n",
       "...           ...        ...   ...\n",
       "4571     Zimbabwe   3.742846  2017\n",
       "4572     Zimbabwe -64.380817  2018\n",
       "4573     Zimbabwe -64.295151  2019\n",
       "4574     Zimbabwe -81.132121  2020\n",
       "4575     Zimbabwe -31.795551  2021\n",
       "\n",
       "[4576 rows x 3 columns]"
      ]
     },
     "execution_count": 48,
     "metadata": {},
     "output_type": "execute_result"
    }
   ],
   "source": [
    "dataframe_1=dataframe[['country_name','value','year']]\n",
    "dataframe_1"
   ]
  },
  {
   "cell_type": "code",
   "execution_count": 49,
   "id": "714c92f5",
   "metadata": {},
   "outputs": [
    {
     "data": {
      "text/html": [
       "<div>\n",
       "<style scoped>\n",
       "    .dataframe tbody tr th:only-of-type {\n",
       "        vertical-align: middle;\n",
       "    }\n",
       "\n",
       "    .dataframe tbody tr th {\n",
       "        vertical-align: top;\n",
       "    }\n",
       "\n",
       "    .dataframe thead th {\n",
       "        text-align: right;\n",
       "    }\n",
       "</style>\n",
       "<table border=\"1\" class=\"dataframe\">\n",
       "  <thead>\n",
       "    <tr style=\"text-align: right;\">\n",
       "      <th></th>\n",
       "      <th>country_name</th>\n",
       "      <th>value</th>\n",
       "      <th>year</th>\n",
       "    </tr>\n",
       "  </thead>\n",
       "  <tbody>\n",
       "    <tr>\n",
       "      <th>4163</th>\n",
       "      <td>United States</td>\n",
       "      <td>3.107885</td>\n",
       "      <td>1961</td>\n",
       "    </tr>\n",
       "    <tr>\n",
       "      <th>4164</th>\n",
       "      <td>United States</td>\n",
       "      <td>3.215346</td>\n",
       "      <td>1962</td>\n",
       "    </tr>\n",
       "    <tr>\n",
       "      <th>4165</th>\n",
       "      <td>United States</td>\n",
       "      <td>3.374882</td>\n",
       "      <td>1963</td>\n",
       "    </tr>\n",
       "    <tr>\n",
       "      <th>4166</th>\n",
       "      <td>United States</td>\n",
       "      <td>2.951669</td>\n",
       "      <td>1964</td>\n",
       "    </tr>\n",
       "    <tr>\n",
       "      <th>4167</th>\n",
       "      <td>United States</td>\n",
       "      <td>2.565913</td>\n",
       "      <td>1965</td>\n",
       "    </tr>\n",
       "    <tr>\n",
       "      <th>...</th>\n",
       "      <td>...</td>\n",
       "      <td>...</td>\n",
       "      <td>...</td>\n",
       "    </tr>\n",
       "    <tr>\n",
       "      <th>4219</th>\n",
       "      <td>United States</td>\n",
       "      <td>2.156099</td>\n",
       "      <td>2017</td>\n",
       "    </tr>\n",
       "    <tr>\n",
       "      <th>4220</th>\n",
       "      <td>United States</td>\n",
       "      <td>2.441415</td>\n",
       "      <td>2018</td>\n",
       "    </tr>\n",
       "    <tr>\n",
       "      <th>4221</th>\n",
       "      <td>United States</td>\n",
       "      <td>3.427090</td>\n",
       "      <td>2019</td>\n",
       "    </tr>\n",
       "    <tr>\n",
       "      <th>4222</th>\n",
       "      <td>United States</td>\n",
       "      <td>2.210411</td>\n",
       "      <td>2020</td>\n",
       "    </tr>\n",
       "    <tr>\n",
       "      <th>4223</th>\n",
       "      <td>United States</td>\n",
       "      <td>-1.189357</td>\n",
       "      <td>2021</td>\n",
       "    </tr>\n",
       "  </tbody>\n",
       "</table>\n",
       "<p>61 rows × 3 columns</p>\n",
       "</div>"
      ],
      "text/plain": [
       "       country_name     value  year\n",
       "4163  United States  3.107885  1961\n",
       "4164  United States  3.215346  1962\n",
       "4165  United States  3.374882  1963\n",
       "4166  United States  2.951669  1964\n",
       "4167  United States  2.565913  1965\n",
       "...             ...       ...   ...\n",
       "4219  United States  2.156099  2017\n",
       "4220  United States  2.441415  2018\n",
       "4221  United States  3.427090  2019\n",
       "4222  United States  2.210411  2020\n",
       "4223  United States -1.189357  2021\n",
       "\n",
       "[61 rows x 3 columns]"
      ]
     },
     "execution_count": 49,
     "metadata": {},
     "output_type": "execute_result"
    }
   ],
   "source": [
    "usa_data= dataframe_1[dataframe_1['country_name']==\"United States\"]\n",
    "usa_data"
   ]
  },
  {
   "cell_type": "code",
   "execution_count": 50,
   "id": "10814b28",
   "metadata": {},
   "outputs": [
    {
     "data": {
      "text/plain": [
       "[<matplotlib.lines.Line2D at 0x19d0639d970>]"
      ]
     },
     "execution_count": 50,
     "metadata": {},
     "output_type": "execute_result"
    },
    {
     "data": {
      "image/png": "[encoded data removed]",
      "text/plain": [
       "<Figure size 432x288 with 1 Axes>"
      ]
     },
     "metadata": {
      "needs_background": "light"
     },
     "output_type": "display_data"
    }
   ],
   "source": [
    "plt.plot(usa_data.year,usa_data.value)"
   ]
  },
  {
   "cell_type": "code",
   "execution_count": 51,
   "id": "1e030f0f",
   "metadata": {},
   "outputs": [
    {
     "data": {
      "text/plain": [
       "array([[<AxesSubplot:title={'center':'value'}>]], dtype=object)"
      ]
     },
     "execution_count": 51,
     "metadata": {},
     "output_type": "execute_result"
    },
    {
     "data": {
      "image/png": "[encoded data removed]",
      "text/plain": [
       "<Figure size 432x288 with 1 Axes>"
      ]
     },
     "metadata": {
      "needs_background": "light"
     },
     "output_type": "display_data"
    }
   ],
   "source": [
    "usa_data.hist('value')"
   ]
  },
  {
   "cell_type": "code",
   "execution_count": 52,
   "id": "de2ca07b",
   "metadata": {},
   "outputs": [
    {
     "data": {
      "text/plain": [
       "[<matplotlib.lines.Line2D at 0x19d064bbb50>]"
      ]
     },
     "execution_count": 52,
     "metadata": {},
     "output_type": "execute_result"
    },
    {
     "data": {
      "image/png": "[encoded data removed]",
      "text/plain": [
       "<Figure size 432x288 with 1 Axes>"
      ]
     },
     "metadata": {
      "needs_background": "light"
     },
     "output_type": "display_data"
    }
   ],
   "source": [
    "china_data= dataframe_1[dataframe_1['country_name']==\"China\"]\n",
    "plt.plot(china_data.year,china_data.value)"
   ]
  },
  {
   "cell_type": "code",
   "execution_count": 53,
   "id": "7ca03477",
   "metadata": {},
   "outputs": [
    {
     "data": {
      "text/plain": [
       "array([[<AxesSubplot:title={'center':'value'}>]], dtype=object)"
      ]
     },
     "execution_count": 53,
     "metadata": {},
     "output_type": "execute_result"
    },
    {
     "data": {
      "image/png": "[encoded data removed]",
      "text/plain": [
       "<Figure size 432x288 with 1 Axes>"
      ]
     },
     "metadata": {
      "needs_background": "light"
     },
     "output_type": "display_data"
    }
   ],
   "source": [
    "china_data.hist('value',color=\"black\")"
   ]
  },
  {
   "cell_type": "code",
   "execution_count": 54,
   "id": "f842b386",
   "metadata": {},
   "outputs": [
    {
     "data": {
      "text/plain": [
       "[<matplotlib.lines.Line2D at 0x19d050ea550>]"
      ]
     },
     "execution_count": 54,
     "metadata": {},
     "output_type": "execute_result"
    },
    {
     "data": {
      "image/png": "[encoded data removed]",
      "text/plain": [
       "<Figure size 432x288 with 1 Axes>"
      ]
     },
     "metadata": {
      "needs_background": "light"
     },
     "output_type": "display_data"
    }
   ],
   "source": [
    "japan_data= dataframe_1[dataframe_1['country_name']==\"Japan\"]\n",
    "plt.plot(japan_data.year,japan_data.value)"
   ]
  },
  {
   "cell_type": "code",
   "execution_count": 55,
   "id": "af5ae6df",
   "metadata": {},
   "outputs": [
    {
     "data": {
      "text/plain": [
       "array([[<AxesSubplot:title={'center':'value'}>]], dtype=object)"
      ]
     },
     "execution_count": 55,
     "metadata": {},
     "output_type": "execute_result"
    },
    {
     "data": {
      "image/png": "[encoded data removed]",
      "text/plain": [
       "<Figure size 432x288 with 1 Axes>"
      ]
     },
     "metadata": {
      "needs_background": "light"
     },
     "output_type": "display_data"
    }
   ],
   "source": [
    "japan_data.hist('value',color=\"pink\")"
   ]
  },
  {
   "cell_type": "code",
   "execution_count": 56,
   "id": "9f992433",
   "metadata": {},
   "outputs": [
    {
     "data": {
      "text/plain": [
       "[<matplotlib.lines.Line2D at 0x19d04f5a2e0>]"
      ]
     },
     "execution_count": 56,
     "metadata": {},
     "output_type": "execute_result"
    },
    {
     "data": {
      "image/png": "[encoded data removed]",
      "text/plain": [
       "<Figure size 432x288 with 1 Axes>"
      ]
     },
     "metadata": {
      "needs_background": "light"
     },
     "output_type": "display_data"
    }
   ],
   "source": [
    "uk_data= dataframe_1[dataframe_1['country_name']==\"United Kingdom\"]\n",
    "plt.plot(uk_data.year,uk_data.value)"
   ]
  },
  {
   "cell_type": "code",
   "execution_count": 57,
   "id": "372240bf",
   "metadata": {},
   "outputs": [
    {
     "data": {
      "text/plain": [
       "array([[<AxesSubplot:title={'center':'value'}>]], dtype=object)"
      ]
     },
     "execution_count": 57,
     "metadata": {},
     "output_type": "execute_result"
    },
    {
     "data": {
      "image/png": "[encoded data removed]",
      "text/plain": [
       "<Figure size 432x288 with 1 Axes>"
      ]
     },
     "metadata": {
      "needs_background": "light"
     },
     "output_type": "display_data"
    }
   ],
   "source": [
    "uk_data.hist('value',color=\"purple\")"
   ]
  },
  {
   "cell_type": "code",
   "execution_count": 58,
   "id": "9ec6ba7f",
   "metadata": {},
   "outputs": [
    {
     "data": {
      "text/plain": [
       "[<matplotlib.lines.Line2D at 0x19d04dd7a60>]"
      ]
     },
     "execution_count": 58,
     "metadata": {},
     "output_type": "execute_result"
    },
    {
     "data": {
      "image/png": "[encoded data removed]",
      "text/plain": [
       "<Figure size 432x288 with 1 Axes>"
      ]
     },
     "metadata": {
      "needs_background": "light"
     },
     "output_type": "display_data"
    }
   ],
   "source": [
    "ind_data= dataframe_1[dataframe_1['country_name']==\"India\"]\n",
    "plt.plot(ind_data.year,ind_data.value)"
   ]
  },
  {
   "cell_type": "code",
   "execution_count": 59,
   "id": "850a77ba",
   "metadata": {},
   "outputs": [
    {
     "data": {
      "text/plain": [
       "array([[<AxesSubplot:title={'center':'value'}>]], dtype=object)"
      ]
     },
     "execution_count": 59,
     "metadata": {},
     "output_type": "execute_result"
    },
    {
     "data": {
      "image/png": "[encoded data removed]",
      "text/plain": [
       "<Figure size 432x288 with 1 Axes>"
      ]
     },
     "metadata": {
      "needs_background": "light"
     },
     "output_type": "display_data"
    }
   ],
   "source": [
    "ind_data.hist('value',color=\"red\")"
   ]
  },
  {
   "cell_type": "raw",
   "id": "ae866234",
   "metadata": {},
   "source": [
    " predicting china inflation "
   ]
  },
  {
   "cell_type": "code",
   "execution_count": 4,
   "id": "767c9298",
   "metadata": {},
   "outputs": [],
   "source": [
    "from statsmodels.tsa.arima_model import ARIMA\n",
    "from sklearn.metrics import mean_squared_error"
   ]
  },
  {
   "cell_type": "code",
   "execution_count": 61,
   "id": "a682b3c2",
   "metadata": {},
   "outputs": [
    {
     "name": "stderr",
     "output_type": "stream",
     "text": [
      "D:\\New folder\\lib\\site-packages\\statsmodels\\tsa\\arima_model.py:472: FutureWarning: \n",
      "statsmodels.tsa.arima_model.ARMA and statsmodels.tsa.arima_model.ARIMA have\n",
      "been deprecated in favor of statsmodels.tsa.arima.model.ARIMA (note the .\n",
      "between arima and model) and\n",
      "statsmodels.tsa.SARIMAX. These will be removed after the 0.12 release.\n",
      "\n",
      "statsmodels.tsa.arima.model.ARIMA makes use of the statespace framework and\n",
      "is both well tested and maintained.\n",
      "\n",
      "To silence this warning and continue using ARMA and ARIMA until they are\n",
      "removed, use:\n",
      "\n",
      "import warnings\n",
      "warnings.filterwarnings('ignore', 'statsmodels.tsa.arima_model.ARMA',\n",
      "                        FutureWarning)\n",
      "warnings.filterwarnings('ignore', 'statsmodels.tsa.arima_model.ARIMA',\n",
      "                        FutureWarning)\n",
      "\n",
      "  warnings.warn(ARIMA_DEPRECATION_WARN, FutureWarning)\n"
     ]
    },
    {
     "name": "stdout",
     "output_type": "stream",
     "text": [
      "Actual=5.531123, Predicted=-1.770273\n",
      "Actual=-1.002401, Predicted=6.711194\n",
      "Actual=-1.402429, Predicted=-3.195133\n",
      "Actual=3.585204, Predicted=0.335542\n",
      "Actual=3.755387, Predicted=2.873991\n",
      "Actual=4.522308, Predicted=1.805472\n",
      "Actual=4.353072, Predicted=4.451561\n",
      "Actual=2.901815, Predicted=4.170651\n",
      "Actual=0.112554, Predicted=3.190469\n",
      "Actual=0.821502, Predicted=0.922474\n",
      "Actual=3.024385, Predicted=1.649214\n",
      "Actual=3.839682, Predicted=2.466455\n",
      "Actual=-0.020874, Predicted=2.947463\n",
      "Test Mean Squared Error (smaller the better fit): 12.187\n"
     ]
    },
    {
     "data": {
      "image/png": "[encoded data removed]",
      "text/plain": [
       "<Figure size 432x288 with 1 Axes>"
      ]
     },
     "metadata": {
      "needs_background": "light"
     },
     "output_type": "display_data"
    }
   ],
   "source": [
    "def GetData(fileName):\n",
    "    return pd.read_csv(fileName, header=0, parse_dates=[0], index_col=0).values\n",
    "\n",
    "#Function that calls ARIMA model to fit and forecast the data\n",
    "def StartARIMAForecasting(Actual, P, D, Q):\n",
    "\tmodel = ARIMA(Actual, order=(P, D, Q))\n",
    "\tmodel_fit = model.fit(disp=0)\n",
    "\tprediction = model_fit.forecast()[0]\n",
    "\treturn prediction\n",
    "    \n",
    "#Get Interest Rate  for China \n",
    "ActualData = GetData(r'C:\\Users\\deepanshu\\Desktop\\china.csv')\n",
    "#Size of exchange rates\n",
    "NumberOfElements = len(ActualData)\n",
    "\n",
    "#Use 70% of data as training, rest 30% to Test model\n",
    "TrainingSize = int(NumberOfElements * 0.7)\n",
    "TrainingData = ActualData[0:TrainingSize]\n",
    "TestData = ActualData[TrainingSize:NumberOfElements]\n",
    "\n",
    "#new arrays to store actual and predictions\n",
    "Actual = [x for x in TrainingData]\n",
    "Predictions = list()\n",
    "\n",
    "\n",
    "#in a for loop, predict values using ARIMA model\n",
    "for timepoint in range(len(TestData)):\n",
    "\tActualValue =  TestData[timepoint]\n",
    "\t#forcast value\n",
    "\tPrediction = StartARIMAForecasting(Actual, 3,1,0)    \n",
    "\tprint('Actual=%f, Predicted=%f' % (ActualValue, Prediction))\n",
    "\t#add it in the list\n",
    "\tPredictions.append(Prediction)\n",
    "\tActual.append(ActualValue)\n",
    "\n",
    "#Print MSE to see how good the model is\n",
    "Error = mean_squared_error(TestData, Predictions)\n",
    "print('Test Mean Squared Error (smaller the better fit): %.3f' % Error)\n",
    "# plot\n",
    "plt.plot(TestData)\n",
    "plt.plot(Predictions, color='red')\n",
    "plt.show()"
   ]
  },
  {
   "cell_type": "code",
   "execution_count": 5,
   "id": "98dba7c5",
   "metadata": {},
   "outputs": [
    {
     "name": "stderr",
     "output_type": "stream",
     "text": [
      "D:\\New folder\\lib\\site-packages\\statsmodels\\tsa\\arima_model.py:472: FutureWarning: \n",
      "statsmodels.tsa.arima_model.ARMA and statsmodels.tsa.arima_model.ARIMA have\n",
      "been deprecated in favor of statsmodels.tsa.arima.model.ARIMA (note the .\n",
      "between arima and model) and\n",
      "statsmodels.tsa.SARIMAX. These will be removed after the 0.12 release.\n",
      "\n",
      "statsmodels.tsa.arima.model.ARIMA makes use of the statespace framework and\n",
      "is both well tested and maintained.\n",
      "\n",
      "To silence this warning and continue using ARMA and ARIMA until they are\n",
      "removed, use:\n",
      "\n",
      "import warnings\n",
      "warnings.filterwarnings('ignore', 'statsmodels.tsa.arima_model.ARMA',\n",
      "                        FutureWarning)\n",
      "warnings.filterwarnings('ignore', 'statsmodels.tsa.arima_model.ARIMA',\n",
      "                        FutureWarning)\n",
      "\n",
      "  warnings.warn(ARIMA_DEPRECATION_WARN, FutureWarning)\n"
     ]
    },
    {
     "name": "stdout",
     "output_type": "stream",
     "text": [
      "Actual=2.107311, Predicted=3.154213\n",
      "Actual=1.612311, Predicted=1.741070\n",
      "Actual=2.960506, Predicted=1.353471\n",
      "Actual=4.726090, Predicted=2.960658\n",
      "Actual=5.206759, Predicted=4.824802\n",
      "Actual=3.109921, Predicted=5.331211\n",
      "Actual=2.592429, Predicted=2.940381\n",
      "Actual=2.023885, Predicted=2.739785\n",
      "Actual=1.148425, Predicted=1.917120\n",
      "Actual=1.354075, Predicted=1.026806\n",
      "Actual=1.473254, Predicted=1.381525\n",
      "Actual=1.354776, Predicted=1.400380\n",
      "Actual=2.237075, Predicted=1.312264\n",
      "Actual=2.484530, Predicted=2.334114\n",
      "Actual=2.156099, Predicted=2.431394\n",
      "Actual=2.441415, Predicted=2.130829\n",
      "Actual=3.427090, Predicted=2.500407\n",
      "Actual=2.210411, Predicted=3.502746\n",
      "Actual=-1.189357, Predicted=2.011406\n",
      "Test Mean Squared Error (smaller the better fit): 1.424\n"
     ]
    },
    {
     "data": {
      "image/png": "[encoded data removed]",
      "text/plain": [
       "<Figure size 432x288 with 1 Axes>"
      ]
     },
     "metadata": {
      "needs_background": "light"
     },
     "output_type": "display_data"
    }
   ],
   "source": [
    "def GetData(fileName):\n",
    "    return pd.read_csv(fileName, header=0, parse_dates=[0], index_col=0).values\n",
    "\n",
    "#Function that calls ARIMA model to fit and forecast the data\n",
    "def StartARIMAForecasting(Actual, P, D, Q):\n",
    "\tmodel = ARIMA(Actual, order=(P, D, Q))\n",
    "\tmodel_fit = model.fit(disp=0)\n",
    "\tprediction = model_fit.forecast()[0]\n",
    "\treturn prediction\n",
    "    \n",
    "#Get Interest Rate  for China \n",
    "ActualData = GetData(r'C:\\Users\\deepanshu\\Desktop\\usa.csv')\n",
    "#Size of exchange rates\n",
    "NumberOfElements = len(ActualData)\n",
    "\n",
    "#Use 70% of data as training, rest 30% to Test model\n",
    "TrainingSize = int(NumberOfElements * 0.7)\n",
    "TrainingData = ActualData[0:TrainingSize]\n",
    "TestData = ActualData[TrainingSize:NumberOfElements]\n",
    "\n",
    "#new arrays to store actual and predictions\n",
    "Actual = [x for x in TrainingData]\n",
    "Predictions = list()\n",
    "\n",
    "\n",
    "#in a for loop, predict values using ARIMA model\n",
    "for timepoint in range(len(TestData)):\n",
    "\tActualValue =  TestData[timepoint]\n",
    "\t#forcast value\n",
    "\tPrediction = StartARIMAForecasting(Actual, 3,1,0)    \n",
    "\tprint('Actual=%f, Predicted=%f' % (ActualValue, Prediction))\n",
    "\t#add it in the list\n",
    "\tPredictions.append(Prediction)\n",
    "\tActual.append(ActualValue)\n",
    "\n",
    "#Print MSE to see how good the model is\n",
    "Error = mean_squared_error(TestData, Predictions)\n",
    "print('Test Mean Squared Error (smaller the better fit): %.3f' % Error)\n",
    "# plot\n",
    "plt.plot(TestData)\n",
    "plt.plot(Predictions, color='red')\n",
    "plt.show()"
   ]
  },
  {
   "cell_type": "code",
   "execution_count": 63,
   "id": "412a1ff6",
   "metadata": {},
   "outputs": [
    {
     "name": "stdout",
     "output_type": "stream",
     "text": [
      "Actual=3.771756, Predicted=4.231298\n",
      "Actual=4.808592, Predicted=4.520556\n",
      "Actual=-1.983859, Predicted=3.725278\n",
      "Actual=1.317980, Predicted=3.511137\n",
      "Actual=2.473522, Predicted=0.912699\n",
      "Actual=3.865993, Predicted=2.673575\n",
      "Actual=6.695176, Predicted=0.549316\n",
      "Actual=7.556488, Predicted=3.940206\n",
      "Actual=6.232711, Predicted=5.914951\n",
      "Actual=5.327609, Predicted=6.043237\n",
      "Actual=5.361666, Predicted=5.972969\n",
      "Actual=6.910293, Predicted=5.946142\n",
      "Actual=3.360843, Predicted=6.267167\n",
      "Actual=-1.153155, Predicted=5.035630\n",
      "Test Mean Squared Error (smaller the better fit): 10.076\n"
     ]
    },
    {
     "data": {
      "image/png": "[encoded data removed]",
      "text/plain": [
       "<Figure size 432x288 with 1 Axes>"
      ]
     },
     "metadata": {
      "needs_background": "light"
     },
     "output_type": "display_data"
    }
   ],
   "source": [
    "def GetData(fileName):\n",
    "    return pd.read_csv(fileName, header=0, parse_dates=[0], index_col=0).values\n",
    "\n",
    "#Function that calls ARIMA model to fit and forecast the data\n",
    "def StartARIMAForecasting(Actual, P, D, Q):\n",
    "\tmodel = ARIMA(Actual, order=(P, D, Q))\n",
    "\tmodel_fit = model.fit(disp=0)\n",
    "\tprediction = model_fit.forecast()[0]\n",
    "\treturn prediction\n",
    "    \n",
    "#Get Interest Rate  for China \n",
    "ActualData = GetData(r'C:\\Users\\deepanshu\\Desktop\\india.csv')\n",
    "#Size of exchange rates\n",
    "NumberOfElements = len(ActualData)\n",
    "\n",
    "#Use 70% of data as training, rest 30% to Test model\n",
    "TrainingSize = int(NumberOfElements * 0.7)\n",
    "TrainingData = ActualData[0:TrainingSize]\n",
    "TestData = ActualData[TrainingSize:NumberOfElements]\n",
    "\n",
    "#new arrays to store actual and predictions\n",
    "Actual = [x for x in TrainingData]\n",
    "Predictions = list()\n",
    "\n",
    "\n",
    "#in a for loop, predict values using ARIMA model\n",
    "for timepoint in range(len(TestData)):\n",
    "\tActualValue =  TestData[timepoint]\n",
    "\t#forcast value\n",
    "\tPrediction = StartARIMAForecasting(Actual, 3,1,0)    \n",
    "\tprint('Actual=%f, Predicted=%f' % (ActualValue, Prediction))\n",
    "\t#add it in the list\n",
    "\tPredictions.append(Prediction)\n",
    "\tActual.append(ActualValue)\n",
    "\n",
    "#Print MSE to see how good the model is\n",
    "Error = mean_squared_error(TestData, Predictions)\n",
    "print('Test Mean Squared Error (smaller the better fit): %.3f' % Error)\n",
    "# plot\n",
    "plt.plot(TestData)\n",
    "plt.plot(Predictions, color='red')\n",
    "plt.show()"
   ]
  },
  {
   "cell_type": "code",
   "execution_count": 65,
   "id": "8fc589bb",
   "metadata": {},
   "outputs": [
    {
     "name": "stderr",
     "output_type": "stream",
     "text": [
      "D:\\New folder\\lib\\site-packages\\statsmodels\\tsa\\arima_model.py:472: FutureWarning: \n",
      "statsmodels.tsa.arima_model.ARMA and statsmodels.tsa.arima_model.ARIMA have\n",
      "been deprecated in favor of statsmodels.tsa.arima.model.ARIMA (note the .\n",
      "between arima and model) and\n",
      "statsmodels.tsa.SARIMAX. These will be removed after the 0.12 release.\n",
      "\n",
      "statsmodels.tsa.arima.model.ARIMA makes use of the statespace framework and\n",
      "is both well tested and maintained.\n",
      "\n",
      "To silence this warning and continue using ARMA and ARIMA until they are\n",
      "removed, use:\n",
      "\n",
      "import warnings\n",
      "warnings.filterwarnings('ignore', 'statsmodels.tsa.arima_model.ARMA',\n",
      "                        FutureWarning)\n",
      "warnings.filterwarnings('ignore', 'statsmodels.tsa.arima_model.ARIMA',\n",
      "                        FutureWarning)\n",
      "\n",
      "  warnings.warn(ARIMA_DEPRECATION_WARN, FutureWarning)\n"
     ]
    },
    {
     "name": "stdout",
     "output_type": "stream",
     "text": [
      "Actual=4.591683, Predicted=4.126016\n",
      "Actual=3.247812, Predicted=4.946186\n",
      "Actual=1.738387, Predicted=3.677297\n",
      "Actual=1.148139, Predicted=2.351235\n",
      "Actual=1.681948, Predicted=1.647404\n",
      "Actual=1.589935, Predicted=1.753795\n",
      "Actual=1.586430, Predicted=1.544449\n",
      "Actual=3.106158, Predicted=1.564522\n",
      "Actual=1.306056, Predicted=2.778583\n",
      "Actual=-1.240772, Predicted=1.470256\n",
      "Actual=-0.920326, Predicted=-0.453416\n",
      "Actual=-1.590428, Predicted=-0.480223\n",
      "Actual=-0.962097, Predicted=-1.461039\n",
      "Actual=-1.635770, Predicted=-1.101806\n",
      "Actual=-0.767984, Predicted=-1.661218\n",
      "Test Mean Squared Error (smaller the better fit): 1.534\n"
     ]
    },
    {
     "data": {
      "image/png": "[encoded data removed]",
      "text/plain": [
       "<Figure size 432x288 with 1 Axes>"
      ]
     },
     "metadata": {
      "needs_background": "light"
     },
     "output_type": "display_data"
    }
   ],
   "source": [
    "def GetData(fileName):\n",
    "    return pd.read_csv(fileName, header=0, parse_dates=[0], index_col=0).values\n",
    "\n",
    "#Function that calls ARIMA model to fit and forecast the data\n",
    "def StartARIMAForecasting(Actual, P, D, Q):\n",
    "\tmodel = ARIMA(Actual, order=(P, D, Q))\n",
    "\tmodel_fit = model.fit(disp=0)\n",
    "\tprediction = model_fit.forecast()[0]\n",
    "\treturn prediction\n",
    "    \n",
    "#Get Interest Rate  for China \n",
    "ActualData = GetData(r'C:\\Users\\deepanshu\\Desktop\\uk.csv')\n",
    "#Size of exchange rates\n",
    "NumberOfElements = len(ActualData)\n",
    "\n",
    "#Use 70% of data as training, rest 30% to Test model\n",
    "TrainingSize = int(NumberOfElements * 0.7)\n",
    "TrainingData = ActualData[0:TrainingSize]\n",
    "TestData = ActualData[TrainingSize:NumberOfElements]\n",
    "\n",
    "#new arrays to store actual and predictions\n",
    "Actual = [x for x in TrainingData]\n",
    "Predictions = list()\n",
    "\n",
    "\n",
    "#in a for loop, predict values using ARIMA model\n",
    "for timepoint in range(len(TestData)):\n",
    "\tActualValue =  TestData[timepoint]\n",
    "\t#forcast value\n",
    "\tPrediction = StartARIMAForecasting(Actual, 3,1,0)    \n",
    "\tprint('Actual=%f, Predicted=%f' % (ActualValue, Prediction))\n",
    "\t#add it in the list\n",
    "\tPredictions.append(Prediction)\n",
    "\tActual.append(ActualValue)\n",
    "\n",
    "#Print MSE to see how good the model is\n",
    "Error = mean_squared_error(TestData, Predictions)\n",
    "print('Test Mean Squared Error (smaller the better fit): %.3f' % Error)\n",
    "# plot\n",
    "plt.plot(TestData)\n",
    "plt.plot(Predictions, color='red')\n",
    "plt.show()"
   ]
  },
  {
   "cell_type": "code",
   "execution_count": 64,
   "id": "51ff9c82",
   "metadata": {},
   "outputs": [
    {
     "name": "stderr",
     "output_type": "stream",
     "text": [
      "D:\\New folder\\lib\\site-packages\\statsmodels\\tsa\\arima_model.py:472: FutureWarning: \n",
      "statsmodels.tsa.arima_model.ARMA and statsmodels.tsa.arima_model.ARIMA have\n",
      "been deprecated in favor of statsmodels.tsa.arima.model.ARIMA (note the .\n",
      "between arima and model) and\n",
      "statsmodels.tsa.SARIMAX. These will be removed after the 0.12 release.\n",
      "\n",
      "statsmodels.tsa.arima.model.ARIMA makes use of the statespace framework and\n",
      "is both well tested and maintained.\n",
      "\n",
      "To silence this warning and continue using ARMA and ARIMA until they are\n",
      "removed, use:\n",
      "\n",
      "import warnings\n",
      "warnings.filterwarnings('ignore', 'statsmodels.tsa.arima_model.ARMA',\n",
      "                        FutureWarning)\n",
      "warnings.filterwarnings('ignore', 'statsmodels.tsa.arima_model.ARIMA',\n",
      "                        FutureWarning)\n",
      "\n",
      "  warnings.warn(ARIMA_DEPRECATION_WARN, FutureWarning)\n"
     ]
    },
    {
     "name": "stdout",
     "output_type": "stream",
     "text": [
      "Actual=3.449521, Predicted=2.772994\n",
      "Actual=3.087795, Predicted=2.609831\n",
      "Actual=3.301823, Predicted=3.057723\n",
      "Actual=3.485829, Predicted=3.474943\n",
      "Actual=2.924241, Predicted=3.421744\n",
      "Actual=2.905628, Predicted=3.255492\n",
      "Actual=2.548823, Predicted=3.318665\n",
      "Actual=2.606878, Predicted=3.119666\n",
      "Actual=2.846981, Predicted=2.861813\n",
      "Actual=2.306033, Predicted=2.793413\n",
      "Actual=3.545762, Predicted=2.590849\n",
      "Actual=3.174490, Predicted=2.884852\n",
      "Actual=2.180077, Predicted=2.878102\n",
      "Actual=1.664022, Predicted=2.825881\n",
      "Actual=-0.459382, Predicted=2.940235\n",
      "Actual=-0.948441, Predicted=1.914581\n",
      "Actual=0.622193, Predicted=0.942359\n",
      "Actual=1.069144, Predicted=0.375459\n",
      "Test Mean Squared Error (smaller the better fit): 1.410\n"
     ]
    },
    {
     "data": {
      "image/png": "[encoded data removed]",
      "text/plain": [
       "<Figure size 432x288 with 1 Axes>"
      ]
     },
     "metadata": {
      "needs_background": "light"
     },
     "output_type": "display_data"
    }
   ],
   "source": [
    "def GetData(fileName):\n",
    "    return pd.read_csv(fileName, header=0, parse_dates=[0], index_col=0).values\n",
    "\n",
    "#Function that calls ARIMA model to fit and forecast the data\n",
    "def StartARIMAForecasting(Actual, P, D, Q):\n",
    "\tmodel = ARIMA(Actual, order=(P, D, Q))\n",
    "\tmodel_fit = model.fit(disp=0)\n",
    "\tprediction = model_fit.forecast()[0]\n",
    "\treturn prediction\n",
    "    \n",
    "#Get Interest Rate  for China \n",
    "ActualData = GetData(r'C:\\Users\\deepanshu\\Desktop\\japan.csv')\n",
    "#Size of exchange rates\n",
    "NumberOfElements = len(ActualData)\n",
    "\n",
    "#Use 70% of data as training, rest 30% to Test model\n",
    "TrainingSize = int(NumberOfElements * 0.7)\n",
    "TrainingData = ActualData[0:TrainingSize]\n",
    "TestData = ActualData[TrainingSize:NumberOfElements]\n",
    "\n",
    "#new arrays to store actual and predictions\n",
    "Actual = [x for x in TrainingData]\n",
    "Predictions = list()\n",
    "\n",
    "\n",
    "#in a for loop, predict values using ARIMA model\n",
    "for timepoint in range(len(TestData)):\n",
    "\tActualValue =  TestData[timepoint]\n",
    "\t#forcast value\n",
    "\tPrediction = StartARIMAForecasting(Actual, 3,1,0)    \n",
    "\tprint('Actual=%f, Predicted=%f' % (ActualValue, Prediction))\n",
    "\t#add it in the list\n",
    "\tPredictions.append(Prediction)\n",
    "\tActual.append(ActualValue)\n",
    "\n",
    "#Print MSE to see how good the model is\n",
    "Error = mean_squared_error(TestData, Predictions)\n",
    "print('Test Mean Squared Error (smaller the better fit): %.3f' % Error)\n",
    "# plot\n",
    "plt.plot(TestData)\n",
    "plt.plot(Predictions, color='red')\n",
    "plt.show()"
   ]
  },
  {
   "cell_type": "code",
   "execution_count": null,
   "id": "9242287e",
   "metadata": {},
   "outputs": [],
   "source": []
  }
 ],
 "metadata": {
  "kernelspec": {
   "display_name": "Python 3",
   "language": "python",
   "name": "python3"
  },
  "language_info": {
   "codemirror_mode": {
    "name": "ipython",
    "version": 3
   },
   "file_extension": ".py",
   "mimetype": "text/x-python",
   "name": "python",
   "nbconvert_exporter": "python",
   "pygments_lexer": "ipython3",
   "version": "3.8.8"
  }
 },
 "nbformat": 4,
 "nbformat_minor": 5
}
